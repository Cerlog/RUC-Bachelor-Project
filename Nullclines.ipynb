{
  "nbformat": 4,
  "nbformat_minor": 0,
  "metadata": {
    "colab": {
      "provenance": [],
      "authorship_tag": "ABX9TyNoCgywtMz01Pu4QNp90gHH",
      "include_colab_link": true
    },
    "kernelspec": {
      "name": "python3",
      "display_name": "Python 3"
    },
    "language_info": {
      "name": "python"
    }
  },
  "cells": [
    {
      "cell_type": "markdown",
      "metadata": {
        "id": "view-in-github",
        "colab_type": "text"
      },
      "source": [
        "<a href=\"https://colab.research.google.com/github/Cerlog/RUC-Bachelor-Project/blob/main/Nullclines.ipynb\" target=\"_parent\"><img src=\"https://colab.research.google.com/assets/colab-badge.svg\" alt=\"Open In Colab\"/></a>"
      ]
    },
    {
      "cell_type": "code",
      "execution_count": null,
      "metadata": {
        "id": "3y61u6aZ5QcJ"
      },
      "outputs": [],
      "source": [
        "import numpy as np\n",
        "import matplotlib.pyplot as plt\n",
        "from ipywidgets import interact, interactive, fixed, interact_manual\n",
        "import ipywidgets as widgets\n",
        "\n",
        "\n",
        "def G(V1, V2, K1, K2):\n",
        "    B = (V1/V2 - 1) - K2*(K1/K2 + V1/V2)\n",
        "    wStar = (B + np.sqrt(B**2 + 4*K2*((V1/V2) - 1)*(V1/V2))) / (2*((V1/V2) - 1))\n",
        "    return wStar\n",
        "\n",
        "def CAMP_PDEP(t, x, k1, k2, r1, k0, r2, r3, r4, ACt, Dt, epsilon, PDEt):\n",
        "    cAMP, PDEp = x\n",
        "    K1 = r1 / ACt\n",
        "    K2 = r2 / ACt\n",
        "    V1 = r1 * cAMP\n",
        "    V2 = r2 * Dt\n",
        "    ACp = ACt * G(V1, V2, K1, K2)\n",
        "    dcAMPdT = (k1 * ACp) + k0 - k2 * PDEp * cAMP\n",
        "    dPDEpdT = r3 * epsilon * ((PDEt - PDEp) / (0.5 * r3) + (PDEt - PDEp)) - r4 * cAMP * ((PDEp) / ((0.5 * r4) + PDEp))\n",
        "    return np.array([dcAMPdT, dPDEpdT])\n",
        "\n",
        "def plot_nullclines(k1, k2, r1, k0, r2, r3, r4, ACt, Dt, epsilon, PDEt):\n",
        "    cAMP_vals = np.linspace(0, 10, 100)\n",
        "    PDEp_vals = np.linspace(0, 10, 100)\n",
        "    cAMP_grid, PDEp_grid = np.meshgrid(cAMP_vals, PDEp_vals)\n",
        "\n",
        "    t = 0\n",
        "    x = np.array([cAMP_grid, PDEp_grid])\n",
        "    nullclines = CAMP_PDEP(t, x, k1, k2, r1, k0, r2, r3, r4, ACt, Dt, epsilon, PDEt)\n",
        "    \n",
        "    plt.figure(figsize=(8, 6))\n",
        "    plt.contour(PDEp_grid,cAMP_grid, nullclines[0], levels=[0], colors='r', linestyles='solid')\n",
        "    plt.contour(PDEp_grid,cAMP_grid ,nullclines[1], levels=[0], colors='b', linestyles='solid')\n",
        "    plt.xlabel('cAMP')\n",
        "    plt.ylabel('PDEp')\n",
        "    plt.show()\n",
        "\n",
        "\n",
        "w = interactive(plot_nullclines,\n",
        "                k1=(0, 10, 0.1),\n",
        "                k2=(0, 10, 0.1),\n",
        "                r1=(0, 10, 0.1),\n",
        "                k0=(0, 10, 0.1),\n",
        "                r2=(0, 10, 0.1),\n",
        "                r3=(0, 10, 0.1),\n",
        "                r4=(0, 10, 0.1),\n",
        "                ACt=(0, 10, 0.1),\n",
        "                Dt=(0, 10, 0.1),\n",
        "                epsilon=(0, 10, 0.1),\n",
        "                PDEt=(0, 10, 0.1))\n",
        "\n",
        "w"
      ]
    }
  ]
}
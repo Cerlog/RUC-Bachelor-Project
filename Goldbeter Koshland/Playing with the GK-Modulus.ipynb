{
 "cells": [
  {
   "cell_type": "code",
   "execution_count": null,
   "id": "5ee966f1",
   "metadata": {},
   "outputs": [],
   "source": [
    "import numpy as np\n",
    "from scipy.integrate import odeint\n",
    "import pandas as pd\n",
    "import matplotlib.pyplot as plt\n",
    "from scipy.optimize import fsolve"
   ]
  },
  {
   "cell_type": "code",
   "execution_count": 1,
   "id": "0da0f605",
   "metadata": {},
   "outputs": [
    {
     "data": {
      "text/plain": "<Figure size 1200x800 with 1 Axes>",
      "image/png": "[encoded data removed]"
     },
     "metadata": {},
     "output_type": "display_data"
    }
   ],
   "source": [
    "import numpy as np\n",
    "import matplotlib.pyplot as plt\n",
    "from scipy.integrate import solve_ivp\n",
    "import matplotlib.pyplot as plt\n",
    "\n",
    "r1 = 0.1\n",
    "r2 = 0.2\n",
    "k1 = 10**2\n",
    "k2 = k1\n",
    "Et = 0.001\n",
    "Dt = 0.001\n",
    "U0 = 1\n",
    "Up0 = 0.00001\n",
    "\n",
    "\n",
    "def equations(t, y):\n",
    "    U, Up = y\n",
    "    Ut = U + Up\n",
    "    u = r1 * Et\n",
    "    v = r2 * Dt\n",
    "    k = k2 / Ut\n",
    "    J = k1 / Ut\n",
    "    G = (2 * u * k) / v - u + v * J + u * k + np.sqrt((v - u + v * J + u * k) ** 2 - (4 * (v - u) * u * k))\n",
    "    dUdt = r2 * Dt * (Ut - U) / (k2 * (Ut - U)) - r1 * Et * (Up / k2 + U)\n",
    "    dUpdt = Ut * G\n",
    "    return [dUpdt, dUdt]\n",
    "\n",
    "\n",
    "sol = solve_ivp(equations, [0, 10], [U0, Up0], t_eval=np.linspace(0, 10, 1000))\n",
    "\n",
    "fig = plt.figure(figsize=(12, 8))\n",
    "#plt.xscale('log')\n",
    "plt.plot(sol.t, sol.y[0], label='U')\n",
    "plt.plot(sol.t, sol.y[1], label='Up')\n",
    "plt.xlabel('Time')\n",
    "plt.ylabel('Concentration')\n",
    "plt.legend()\n",
    "#plt.xlim(10**-2, 10**2)\n",
    "#plt.ylim(0,1)\n",
    "plt.axis('equal')\n",
    "plt.show()\n"
   ]
  },
  {
   "cell_type": "code",
   "execution_count": null,
   "id": "dbba90f3",
   "metadata": {},
   "outputs": [],
   "source": [
    "def Goldbeter_Koshland(u, k, v, J):\n",
    "    u = r1*Et\n",
    "    v = r2*Dt\n",
    "    k = k2/Ut\n",
    "    J = k1/Ut\n",
    "    G = (2*u*k)/v-u+v*J+u*k+sqrt((v-u+v*J+u*k)**2-4*(v-u)*u*k)\n",
    "    return equilibrium\n",
    "\n",
    "def model(U, Up, t):\n",
    "    dUdt = r2*Dt*(Ut-U)/(k2(Ut-U))-r1*Et*(Up/k2+U)\n",
    "    dUpdt = Ut*G\n",
    "    return"
   ]
  },
  {
   "cell_type": "code",
   "execution_count": null,
   "id": "b524bc83",
   "metadata": {},
   "outputs": [
    {
     "ename": "NameError",
     "evalue": "name 'd1' is not defined",
     "output_type": "error",
     "traceback": [
      "\u001B[1;31m---------------------------------------------------------------------------\u001B[0m",
      "\u001B[1;31mNameError\u001B[0m                                 Traceback (most recent call last)",
      "Cell \u001B[1;32mIn[3], line 1\u001B[0m\n\u001B[1;32m----> 1\u001B[0m k1\u001B[38;5;241m=\u001B[39m(\u001B[43md1\u001B[49m\u001B[38;5;241m+\u001B[39mr1)\u001B[38;5;241m/\u001B[39ma1\n\u001B[0;32m      2\u001B[0m k2\u001B[38;5;241m=\u001B[39m(d2\u001B[38;5;241m+\u001B[39mr2)\u001B[38;5;241m/\u001B[39ma2\n\u001B[0;32m      4\u001B[0m EU\u001B[38;5;241m=\u001B[39mEt\u001B[38;5;241m*\u001B[39m(U\u001B[38;5;241m/\u001B[39m(k2\u001B[38;5;241m+\u001B[39mU))\n",
      "\u001B[1;31mNameError\u001B[0m: name 'd1' is not defined"
     ]
    }
   ],
   "source": [
    "k1=(d1+r1)/a1\n",
    "k2=(d2+r2)/a2\n",
    "\n",
    "EU=Et*(U/(k2+U))\n",
    "DU=Dt*(Up/(k2+Up))\n"
   ]
  },
  {
   "cell_type": "code",
   "execution_count": null,
   "id": "9dfd0b9d",
   "metadata": {},
   "outputs": [],
   "source": [
    "k0,k1,k2,k3,k4,J3,J4 = 0.4,0.01,1,1,0.2,0.05,0.05\n",
    "def Goldbeter_Koshland(v1,v2,J1,J2):\n",
    "    A = r1*Et-r2*Dt\n",
    "    B = r2*Dt*(1+(k1/Ut))+r1*Et((k2/Ut)-1)\n",
    "    C = r1*Et*(k2/Ut)\n",
    "    equilibrium = (2*C)/(2*A*(-B))\n",
    "    return equilibrium\n",
    "\n",
    "def model(R,t,S):\n",
    "    Up = Ut * Goldbeter_Koshland(k3*R,k4,J3,J4)\n",
    "    dUdt = r2*Dt*(Ut+U)/(k2(Ut-U))-r1*Et*(Up/k2)\n",
    "    return dRdt\n",
    "\n",
    "t = np.linspace(0,10,100)\n",
    "result = odeint(model,y0=1,t=t,args=(0,))"
   ]
  },
  {
   "cell_type": "code",
   "execution_count": null,
   "id": "6a107d5d",
   "metadata": {},
   "outputs": [],
   "source": [
    "# rate curve\n",
    "R = np.linspace(0,0.7,100)\n",
    "S_options = [0,8,16]\n",
    "fig,ax = plt.subplots()\n",
    "for S in S_options:\n",
    "    removal_rate = k2*R\n",
    "    EP = Goldbeter_Koshland(k3*R,k4,J3,J4)\n",
    "    production_rate = k0*EP+k1*S\n",
    "    ax.plot(R,removal_rate,c='k',linestyle='-')\n",
    "    ax.plot(R,production_rate,c='k',linestyle='--')\n",
    "ax.set_xlim(0,0.7)\n",
    "ax.set_xlabel('R')\n",
    "ax.set_ylim(0,0.6)\n",
    "ax.set_ylabel('Rate')\n",
    "\n"
   ]
  },
  {
   "cell_type": "code",
   "execution_count": null,
   "id": "ba8ad883",
   "metadata": {},
   "outputs": [],
   "source": [
    "S_options = np.linspace(0,15,100)\n",
    "def equation(R,S):\n",
    "    EP = Goldbeter_Koshland(k3*R,k4,J3,J4)\n",
    "    return k0*EP + k1*S - k2*R\n",
    "fig,ax = plt.subplots()\n",
    "store_uplimb,store_downlimb = [],[]\n",
    "for S in S_options:\n",
    "    R_ss_uplimb = fsolve(func=equation,x0=[1],args=(S,))[0]\n",
    "    R_ss_downlimb = fsolve(func=equation,x0=[0],args=(S,))[0]\n",
    "    store_uplimb.append(R_ss_uplimb)\n",
    "    store_downlimb.append(R_ss_downlimb)\n",
    "ax.plot(S_options,store_uplimb)\n",
    "ax.plot(S_options,store_downlimb)\n",
    "\n",
    "\n",
    "\n",
    "R = np.linspace(-1,2,10000)\n",
    "result = equation(R,S=5)\n",
    "fig,ax = plt.subplots()\n",
    "ax.plot(R,result)\n",
    "ax.axhline(0,linestyle='--',c='k')\n",
    "\n",
    "fsolve(func=equation,x0=[0.0],args=(5,))"
   ]
  },
  {
   "cell_type": "code",
   "execution_count": null,
   "id": "900f515f",
   "metadata": {
    "pycharm": {
     "is_executing": true
    }
   },
   "outputs": [],
   "source": []
  },
  {
   "cell_type": "code",
   "execution_count": null,
   "outputs": [],
   "source": [],
   "metadata": {
    "collapsed": false
   }
  }
 ],
 "metadata": {
  "kernelspec": {
   "display_name": "Python 3 (ipykernel)",
   "language": "python",
   "name": "python3"
  },
  "language_info": {
   "codemirror_mode": {
    "name": "ipython",
    "version": 3
   },
   "file_extension": ".py",
   "mimetype": "text/x-python",
   "name": "python",
   "nbconvert_exporter": "python",
   "pygments_lexer": "ipython3",
   "version": "3.9.7"
  }
 },
 "nbformat": 4,
 "nbformat_minor": 5
}

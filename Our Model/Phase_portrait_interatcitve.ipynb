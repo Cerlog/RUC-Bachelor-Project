{
 "cells": [
  {
   "cell_type": "code",
   "execution_count": null,
   "outputs": [],
   "source": [
    "# credit goes to http://www.facweb.iitkgp.ac.in/~adityab/files/lec18.html\n",
    "import numpy as np\n",
    "import matplotlib.pyplot as plt\n",
    "from ipywidgets import interactive\n",
    "\n",
    "def show_sol(k1=9.18, k3=0.12, k2=10, r1=2.04, r2=9.34, r3=0.56, r4=1.84, Km1=0.46, Km2=9.34, Km3=1.26, Km4=0.18, Dt=1.26, ACt=10, PDEt=9.66, Et=2.04):# credit goes to http://www.facweb.iitkgp.ac.in/~adityab/files/lec18.html\n",
    "\n",
    "    def G(u, v, J, K):\n",
    "        numerator = 2 * u * K\n",
    "        den_1 = v - u + v * J + u * K\n",
    "        den_2 = -4 * (v - u) * u * K\n",
    "        radicand = den_1**2 + den_2\n",
    "        denominator = den_1 + np.sqrt(radicand)\n",
    "        return numerator / denominator\n",
    "\n",
    "    def dPDEp(cAMP, PDEp):\n",
    "        return r3 * cAMP * ((PDEt - PDEp) / Km3) - r4 * Et * PDEp / (Km4 + PDEp)\n",
    "\n",
    "    def dcAMP(cAMP, PDEp, ACp):\n",
    "        return (k1 * ACp) - (k3 + k2 * PDEp) * cAMP\n",
    "\n",
    "    cAMP_range = np.linspace(-3, 3, 100)\n",
    "    PDEp_range = np.linspace(-3, 3, 100)\n",
    "\n",
    "    CAMP, PDEP = np.meshgrid(cAMP_range, PDEp_range)\n",
    "\n",
    "    ACp = ACt * G(r1 * CAMP, r2 * Dt, Km1 / ACt, Km2 / ACt)\n",
    "\n",
    "    U = dcAMP(CAMP, PDEP, ACp)\n",
    "    V = dPDEp(CAMP, PDEP)\n",
    "    plt.streamplot(CAMP, PDEP, U, V, integration_direction='forward', density=1.5)\n",
    "\n",
    "    ax = plt.gca()\n",
    "    ax.set_aspect(1)\n",
    "    plt.scatter(0, 0, color='black', marker='o', label='(0,0) Saddle', alpha=1, zorder=10)\n",
    "    plt.scatter(0.951867, 1.65682, color='black', marker='o', label='(0.95,1.62) Unstable spiral', zorder=10)\n",
    "    plt.axvline(0, color='black', linestyle='--', alpha=0.5)\n",
    "    plt.axhline(0, color='black', linestyle='--', alpha=0.5)\n",
    "    plt.title('2D Phase portrait')\n",
    "    plt.xlabel('cAMP')\n",
    "    plt.ylabel('PDEp')\n",
    "    plt.show()\n",
    "w = interactive(show_sol, Km1=(0.001, 10, 0.001), Km2=(0.1, 10, 0.01),ACt=(0.1, 10, 0.01), Dt=(0.01, 10, 0.01), r1=(0.1, 10, 0.01), r2=(0.1, 10, 0.01), r3=(0.1, 10, 0.01), k1=(0.1, 10, 0.01), k2=(0.1, 10, 0.01), Km3=(0.1, 10, 0.01), PDEt=(0.1, 10, 0.01), r4=(0.1, 10, 0.01), E=(0.1, 10, 0.01),  a=(0.1, 10, 0.01),  b=(0.1, 10, 0.01) ,continuous_update=True)\n",
    "w"
   ],
   "metadata": {
    "collapsed": false
   }
  }
 ],
 "metadata": {
  "kernelspec": {
   "display_name": "Python 3",
   "language": "python",
   "name": "python3"
  },
  "language_info": {
   "codemirror_mode": {
    "name": "ipython",
    "version": 2
   },
   "file_extension": ".py",
   "mimetype": "text/x-python",
   "name": "python",
   "nbconvert_exporter": "python",
   "pygments_lexer": "ipython2",
   "version": "2.7.6"
  }
 },
 "nbformat": 4,
 "nbformat_minor": 0
}

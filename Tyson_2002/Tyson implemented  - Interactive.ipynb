{
 "cells": [
  {
   "cell_type": "markdown",
   "id": "57621046",
   "metadata": {},
   "source": [
    "To ensure the interactive widget works properly. Install ipywidgets and Node.Js"
   ]
  },
  {
   "cell_type": "code",
   "execution_count": 1,
   "id": "9ae49991",
   "metadata": {},
   "outputs": [],
   "source": [
    "import numpy as np\n",
    "import matplotlib.pyplot as plt\n",
    "from ipywidgets import interactive\n",
    "plt.rcParams.update({'text.usetex': True}) # import to make plots nicer\n",
    "%config InlineBackend.figure_format = 'svg' # import to make plots nicer\n",
    "from ODE_SOLVER import RungeKutta4 # for this import to work - make sure the file ODE_SOLVER is in the same file as your jupyter notebook"
   ]
  },
  {
   "cell_type": "markdown",
   "id": "786e5ddb",
   "metadata": {},
   "source": [
    "This program is based on the literature **\"Sniffers, buzzers, toggles and blinkers: dynamics of regulatoryand signaling pathways in the cell\" (Tyson 2002)** "
   ]
  },
  {
   "cell_type": "markdown",
   "id": "826efd74",
   "metadata": {},
   "source": [
    "Implemented model 2b) Activator inhibitor <br>\n",
    "$$\n",
    "\\begin{align}\n",
    "\\frac{dR}{dt} =& k_0 \\cdot E_p(R) + k_1\\cdot S - k_2 \\cdot R - k^{\\prime}_2\\cdot X \\cdot R \\tag{1}\\\\\n",
    "\\frac{dX}{dt} =& k_5 \\cdot R - k_6 \\cdot X \\tag{2}\\\\\n",
    "E_p(R) =& G(k_3 \\cdot R, k_4, J_3, J_4 \\tag{3})\\\\\n",
    "\\end{align}\n",
    "$$\n",
    "Where G is defined as:\n",
    "$$\n",
    "\\begin{align}\n",
    "G(u, v, J, K) = \\frac{2 \\cdot u \\cdot K}{v - u + v \\cdot J + u \\cdot K + \\sqrt{(v-u+v\\cdot J + u \\cdot K)^2-4(v - u) \\cdot u \\cdot K}} \\tag{4}\n",
    "\\end{align}\n",
    "$$\n",
    "\n",
    "**Parameter values** <br>\n",
    "$k_0 = 4, k_1=k_2=k^{\\prime}=k_3=k_4=1, k_5 = 0.1, k=6 = 0.075, J_3 = J_4 = 0.3, S=0.2$"
   ]
  },
  {
   "cell_type": "code",
   "execution_count": 2,
   "id": "4eeaf8b6",
   "metadata": {},
   "outputs": [],
   "source": [
    "def show_sol(k0=4., k1 = 1., k2 = 1., k2_p = 1., k3 = 1. , k4 = 1., k5=0.1, k6=0.075, J3 = 0.3, J4 = 0.3, S = 0.2):\n",
    "    def CAMP_PDEP(x, t):\n",
    "        # \n",
    "        def G(u: int, v: int, J:int, K:int): # equation (4)\n",
    "            nominator = 2 * u * K\n",
    "            den_1 = v - u + v * J + u * K\n",
    "            den_2 = -4 * (v - u) * u * K\n",
    "            denominator = den_1 + np.sqrt(np.power(den_1, 2) + den_2)\n",
    "            return nominator / denominator\n",
    "\n",
    "        R = x[0] \n",
    "        X = x[1]\n",
    "\n",
    "        EP = G(k3*R, k4, J3, J4) # equation (3) \n",
    "\n",
    "\n",
    "        dRdT = k0*EP + k1*S - k2 * R - k2_p * X * R # equation (1)\n",
    "        dXdT = (k5*R) - (k6*X) # equation (2)\n",
    "        return [dRdT, dXdT]\n",
    "\n",
    "\n",
    "    x0 = [0.1, 0.8] # initial conditions\n",
    "    solver = RungeKutta4(CAMP_PDEP)\n",
    "    solver.set_initial_condition(x0)\n",
    "    time_points = np.linspace(0, 200, 1000)\n",
    "    x, t = solver.solve(time_points)\n",
    "    R = x[:,0]; X = x[:,1]\n",
    "    plt.title(\"Some title\")\n",
    "    plt.plot(t, R, label='R')\n",
    "    plt.plot(t, X, label='X')\n",
    "    plt.xlabel('Time')\n",
    "    plt.ylabel('Concenration')\n",
    "    plt.legend()\n",
    "w = interactive(show_sol, k0=(0.1, 10, 0.01), k1=(0.1, 10, 0.01),k2_p=(0.1, 10, 0.01),  k2=(0.1, 10, 0.01), k5=(0.01, 10, 0.01), k3=(0.1, 10, 0.01), k4=(0.1, 10, 0.01), k6=(0.01, 10, 0.01), J4=(0.1, 10, 0.01), J3=(0.1, 10, 0.01), S=(0.01, 1, 0.01),continuous_update=False)"
   ]
  },
  {
   "cell_type": "code",
   "execution_count": 45,
   "id": "fd0c2f8f",
   "metadata": {},
   "outputs": [
    {
     "data": {
      "application/vnd.jupyter.widget-view+json": {
       "model_id": "7396f0b0f4104c3e8919e82a53b26155",
       "version_major": 2,
       "version_minor": 0
      },
      "text/plain": [
       "interactive(children=(FloatSlider(value=4.0, description='k0', max=10.0, min=0.1, step=0.01), FloatSlider(valu…"
      ]
     },
     "execution_count": 45,
     "metadata": {},
     "output_type": "execute_result"
    }
   ],
   "source": [
    "w"
   ]
  },
  {
   "cell_type": "code",
   "execution_count": null,
   "id": "bdf7b7c2",
   "metadata": {},
   "outputs": [],
   "source": []
  },
  {
   "cell_type": "code",
   "execution_count": null,
   "id": "fe5d6546",
   "metadata": {},
   "outputs": [],
   "source": []
  }
 ],
 "metadata": {
  "kernelspec": {
   "display_name": "Python 3 (ipykernel)",
   "language": "python",
   "name": "python3"
  },
  "language_info": {
   "codemirror_mode": {
    "name": "ipython",
    "version": 3
   },
   "file_extension": ".py",
   "mimetype": "text/x-python",
   "name": "python",
   "nbconvert_exporter": "python",
   "pygments_lexer": "ipython3",
   "version": "3.11.1"
  }
 },
 "nbformat": 4,
 "nbformat_minor": 5
}

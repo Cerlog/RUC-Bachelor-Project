{
 "cells": [
  {
   "cell_type": "markdown",
   "id": "57621046",
   "metadata": {},
   "source": [
    "To ensure the interactive widget works properly. Install ipywidgets and Node.Js"
   ]
  },
  {
   "cell_type": "code",
   "execution_count": 1,
   "id": "9ae49991",
   "metadata": {},
   "outputs": [],
   "source": [
    "import numpy as np\n",
    "import matplotlib.pyplot as plt\n",
    "from ipywidgets import interactive\n",
    "plt.rcParams.update({'text.usetex': True}) # import to make plots nicer\n",
    "%config InlineBackend.figure_format = 'svg' # import to make plots nicer\n",
    "from ODE_SOLVER import RungeKutta4 # for this import to work - make sure the file ODE_SOLVER is in the same file as your jupyter notebook"
   ]
  },
  {
   "cell_type": "markdown",
   "id": "786e5ddb",
   "metadata": {},
   "source": [
    "This program is based on the literature **\"Sniffers, buzzers, toggles and blinkers: dynamics of regulatoryand signaling pathways in the cell\" (Tyson 2002)** "
   ]
  },
  {
   "cell_type": "markdown",
   "id": "826efd74",
   "metadata": {},
   "source": [
    "Implemented model 2b) Activator inhibitor <br>\n",
    "$$\n",
    "\\begin{align}\n",
    "\\frac{dR}{dt} =& k_0 \\cdot E_p(R) + k_1\\cdot S - k_2 \\cdot R - k^{\\prime}_2\\cdot X \\cdot R \\tag{1}\\\\\n",
    "\\frac{dX}{dt} =& k_5 \\cdot R - k_6 \\cdot X \\tag{2}\\\\\n",
    "E_p(R) =& G(k_3 \\cdot R, k_4, J_3, J_4 \\tag{3})\\\\\n",
    "\\end{align}\n",
    "$$\n",
    "Where G is defined as:\n",
    "$$\n",
    "\\begin{align}\n",
    "G(u, v, J, K) = \\frac{2 \\cdot u \\cdot K}{v - u + v \\cdot J + u \\cdot K + \\sqrt{(v-u+v\\cdot J + u \\cdot K)^2-4(v - u) \\cdot u \\cdot K}} \\tag{4}\n",
    "\\end{align}\n",
    "$$\n",
    "\n",
    "**Parameter values** <br>\n",
    "$k_0 = 4, k_1=k_2=k^{\\prime}=k_3=k_4=1, k_5 = 0.1, k=6 = 0.075, J_3 = J_4 = 0.3, S=0.2$"
   ]
  },
  {
   "cell_type": "code",
   "execution_count": 2,
   "id": "4eeaf8b6",
   "metadata": {},
   "outputs": [
    {
     "ename": "IndentationError",
     "evalue": "unindent does not match any outer indentation level (<tokenize>, line 10)",
     "output_type": "error",
     "traceback": [
      "\u001B[1;36m  File \u001B[1;32m<tokenize>:10\u001B[1;36m\u001B[0m\n\u001B[1;33m    R = x[0]\u001B[0m\n\u001B[1;37m    ^\u001B[0m\n\u001B[1;31mIndentationError\u001B[0m\u001B[1;31m:\u001B[0m unindent does not match any outer indentation level\n"
     ]
    }
   ],
   "source": [
    "def show_sol(k0=4., k1 = 1., k2 = 1., k2_p = 1., k3 = 1. , k4 = 1., k5=0.1, k6=0.075, J3 = 0.3, J4 = 0.3, S = 0.2):\n",
    "    def G(u, v, J, K): # equation (4)\n",
    "            numerator = 2 * u * K # numerator of the fraction\n",
    "            den_1 = v - u + v * J + u * K # first part of the denominator\n",
    "            den_2 = -4 * (v - u) * u * K # second part of the denominator\n",
    "            radicand = den_1**2 + den_2 # expression under the square root\n",
    "            denominator = den_1 + np.sqrt(radicand) # compute the entire denominator\n",
    "            return numerator / denominator # compute and return the fraction\n",
    "\n",
    "        R = x[0] \n",
    "        X = x[1]\n",
    "\n",
    "        EP = G(k3*R, k4, J3, J4) # equation (3) \n",
    "\n",
    "\n",
    "        dRdT = k0*EP + k1*S - k2 * R - k2_p * X * R # equation (1)\n",
    "        dXdT = (k5*R) - (k6*X) # equation (2)\n",
    "        return [dRdT, dXdT]\n",
    "\n",
    "\n",
    "    x0 = [0.1, 0.8] # initial conditions\n",
    "    solver = RungeKutta4(CAMP_PDEP)\n",
    "    solver.set_initial_condition(x0)\n",
    "    time_points = np.linspace(0, 200, 1000)\n",
    "    x, t = solver.solve(time_points)\n",
    "    R = x[:,0]; X = x[:,1]\n",
    "    plt.title(\"Some title\")\n",
    "    plt.plot(t, R, label='R')\n",
    "    plt.plot(t, X, label='X')\n",
    "    plt.xlabel('Time')\n",
    "    plt.ylabel('Concenration')\n",
    "    plt.legend()\n",
    "w = interactive(show_sol, k0=(0.1, 10, 0.01), k1=(0.1, 10, 0.01),k2_p=(0.1, 10, 0.01),  k2=(0.1, 10, 0.01), k5=(0.01, 10, 0.01), k3=(0.1, 10, 0.01), k4=(0.1, 10, 0.01), k6=(0.01, 10, 0.01), J4=(0.1, 10, 0.01), J3=(0.1, 10, 0.01), S=(0.01, 1, 0.01),continuous_update=False)"
   ]
  },
  {
   "cell_type": "code",
   "execution_count": 3,
   "id": "fd0c2f8f",
   "metadata": {},
   "outputs": [
    {
     "data": {
      "application/vnd.jupyter.widget-view+json": {
       "model_id": "1d1f9c2a45b948e4a7ecf9398dea431a",
       "version_major": 2,
       "version_minor": 0
      },
      "text/plain": [
       "interactive(children=(FloatSlider(value=4.0, description='k0', max=10.0, min=0.1, step=0.01), FloatSlider(valu…"
      ]
     },
     "execution_count": 3,
     "metadata": {},
     "output_type": "execute_result"
    }
   ],
   "source": [
    "w"
   ]
  },
  {
   "cell_type": "code",
   "execution_count": null,
   "id": "bdf7b7c2",
   "metadata": {},
   "outputs": [],
   "source": []
  },
  {
   "cell_type": "code",
   "execution_count": null,
   "id": "fe5d6546",
   "metadata": {},
   "outputs": [],
   "source": [
    "import numpy as np\n",
    "import matplotlib.pyplot as plt\n",
    "from ipywidgets import interact, interactive, fixed, interact_manual\n",
    "import ipywidgets as widgets\n",
    "\n",
    "\n",
    "\n",
    "def CAMP_PDEP(t, x, k1, k3, k2, r1, r2, r3, r4, Km1, Km2, Km3, Km4, Dt, Et, ACt, PDEt):\n",
    "    cAMP, PDEp = x\n",
    "    def G(u, v, J, K): # equation (4)\n",
    "            numerator = 2 * u * K # numerator of the fraction\n",
    "            den_1 = v - u + v * J + u * K # first part of the denominator\n",
    "            den_2 = -4 * (v - u) * u * K # second part of the denominator\n",
    "            radicand = den_1**2 + den_2 # expression under the square root\n",
    "            denominator = den_1 + np.sqrt(radicand) # compute the entire denominator\n",
    "            return numerator / denominator # compute and return the fraction\n",
    "\n",
    "\n",
    "    #ACp = (2 * r1 * cAMP * Km2) / (r2 * Dt * (1 + Km1 / ACt) + r1 * cAMP * (1 + Km2 / ACt) + np.sqrt((r2 * Dt * (1 + Km1 / ACt) + r1 * cAMP * (1 + Km2 / ACt)) ** 2 + 4 * (r1 * cAMP - r2 * Dt) ** 2))\n",
    "\n",
    "\n",
    "    dPDEp  = r3 * cAMP * ((PDEt - PDEp) / Km3) - r4 * Et * PDEp / (Km4 + PDEp)\n",
    "\n",
    "    dcAMP = (k1*(ACt*G(r1*cAMP, r2*Dt, Km1/ACt, Km2/ACt))) - (k3 + k2 * PDEp) * cAMP\n",
    "    return np.array([dcAMP, dPDEp])\n",
    "\n",
    "def plot_nullclines(k1, k3, k2, r1, r2, r3, r4, Km1, Km2, Km3, Km4, Dt, Et, ACt, PDEt):\n",
    "    cAMP_vals = np.linspace(-30, 30, 100)\n",
    "    dACp_vals = np.linspace(-30, 30, 100)\n",
    "    cAMP_grid, dACp_grid = np.meshgrid(cAMP_vals, dACp_vals)\n",
    "\n",
    "    t = 0\n",
    "    x = np.array([cAMP_grid, dACp_grid])\n",
    "    nullclines = CAMP_PDEP(t, x, k1, k3, k2, r1, r2, r3, r4, Km1, Km2, Km3, Km4, Dt, Et, ACt, PDEt)\n",
    "\n",
    "    plt.figure(figsize=(8, 6))\n",
    "    plt.contour(cAMP_grid,dACp_grid, nullclines[1], levels=[0], colors='r', linestyles='solid')\n",
    "    plt.contour(cAMP_grid,dACp_grid ,nullclines[0], levels=[0], colors='b', linestyles='solid')\n",
    "    plt.xlabel('cAMP')\n",
    "    plt.ylabel('ACp')\n",
    "    plt.show()\n",
    "\n",
    "\n",
    "f = interactive(plot_nullclines,\n",
    "                k1=widgets.FloatSlider(min=0, max=10, step=0.1, value=4.32),\n",
    "                k3=widgets.FloatSlider(min=0, max=10, step=0.1, value=0.58),\n",
    "                k2=widgets.FloatSlider(min=0, max=10, step=0.1, value=3.73),\n",
    "                r1=widgets.FloatSlider(min=0, max=10, step=0.1, value=0.98),\n",
    "                r2=widgets.FloatSlider(min=0, max=10, step=0.1, value=4.48),\n",
    "                r3=widgets.FloatSlider(min=0, max=10, step=0.1, value=0.1),\n",
    "                r4=widgets.FloatSlider(min=0, max=10, step=0.1, value=0.14),\n",
    "                Km1=widgets.FloatSlider(min=0, max=10, step=0.1, value=2.48),\n",
    "                Km2=widgets.FloatSlider(min=0, max=10, step=0.1, value=3.34),\n",
    "                Km3=widgets.FloatSlider(min=0, max=10, step=0.1, value=9.24),\n",
    "                Km4=widgets.FloatSlider(min=0, max=10, step=0.1, value=7.24),\n",
    "                Dt=widgets.FloatSlider(min=0, max=10, step=0.1, value=2.12),\n",
    "                Et=widgets.FloatSlider(min=0, max=10, step=0.1, value=1.6),\n",
    "                ACt=widgets.FloatSlider(min=0, max=10, step=0.1, value=6.68),\n",
    "                PDEt=widgets.FloatSlider(min=0, max=10, step=0.1, value=4.64),\n",
    "                PDEp=widgets.FloatSlider(min=-30, max=30, step=0.1, value=1)\n",
    "                )\n",
    "\n",
    "f"
   ]
  }
 ],
 "metadata": {
  "kernelspec": {
   "display_name": "Python 3 (ipykernel)",
   "language": "python",
   "name": "python3"
  },
  "language_info": {
   "codemirror_mode": {
    "name": "ipython",
    "version": 3
   },
   "file_extension": ".py",
   "mimetype": "text/x-python",
   "name": "python",
   "nbconvert_exporter": "python",
   "pygments_lexer": "ipython3",
   "version": "3.11.1"
  }
 },
 "nbformat": 4,
 "nbformat_minor": 5
}

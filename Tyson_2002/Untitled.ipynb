{
 "cells": [
  {
   "cell_type": "code",
   "execution_count": 2,
   "id": "4d4fe8e3",
   "metadata": {},
   "outputs": [
    {
     "name": "stdout",
     "output_type": "stream",
     "text": [
      "Writing ODE_SOLVER.py\n"
     ]
    }
   ],
   "source": [
    "# Credit goes to https://sundnes.github.io/solving_odes_in_python/\n",
    "\n",
    "%%writefile ODE_SOLVER.py\n",
    "\n",
    "import numpy as np\n",
    "\n",
    "class ODESolver:\n",
    "    def __init__(self, f):\n",
    "        # Wrap user's f in a new function that always\n",
    "        # converts list/tuple to array (or let array be array)\n",
    "        self.f = lambda u, t: np.asarray(f(u, t), float)\n",
    "\n",
    "    def set_initial_condition(self, U0):\n",
    "        if isinstance(U0, (float,int)):  # scalar ODE\n",
    "            self.neq = 1                 # no of equations\n",
    "            U0 = float(U0)\n",
    "        else:                            # system of ODEs\n",
    "            U0 = np.asarray(U0)\n",
    "            self.neq = U0.size           # no of equations\n",
    "        self.U0 = U0\n",
    "\n",
    "    def solve(self, time_points):\n",
    "        self.t = np.asarray(time_points)\n",
    "        N = len(self.t)\n",
    "        if self.neq == 1:  # scalar ODEs\n",
    "            self.u = np.zeros(N)\n",
    "        else:              # systems of ODEs\n",
    "            self.u = np.zeros((N,self.neq))\n",
    "\n",
    "        # Assume that self.t[0] corresponds to self.U0\n",
    "        self.u[0] = self.U0\n",
    "\n",
    "        # Time loop\n",
    "        for n in range(N-1):\n",
    "            self.n = n\n",
    "            self.u[n+1] = self.advance()\n",
    "        return self.u, self.t\n",
    "\n",
    "class ForwardEuler(ODESolver):\n",
    "    def advance(self):\n",
    "        u, f, n, t = self.u, self.f, self.n, self.t\n",
    "\n",
    "        dt = t[n+1] - t[n]\n",
    "        unew = u[n] + dt*f(u[n], t[n])\n",
    "        return unew\n",
    "\n",
    "class ExplicitMidpoint(ODESolver):\n",
    "    def advance(self):\n",
    "        u, f, n, t = self.u, self.f, self.n, self.t\n",
    "        dt = t[n+1] - t[n]\n",
    "        dt2 = dt/2.0\n",
    "        k1 = f(u[n], t[n])\n",
    "        k2 = f(u[n] + dt2*k1, t[n] + dt2)\n",
    "        unew = u[n] + dt*k2\n",
    "        return unew\n",
    "\n",
    "class RungeKutta4(ODESolver):\n",
    "    def advance(self):\n",
    "        u, f, n, t = self.u, self.f, self.n, self.t\n",
    "        dt = t[n+1] - t[n]\n",
    "        dt2 = dt/2.0\n",
    "        k1 = f(u[n], t[n])\n",
    "        k2 = f(u[n] + dt2*k1, t[n] + dt2)\n",
    "        k3 = f(u[n] + dt2*k2, t[n] + dt2)\n",
    "        k4 = f(u[n] + dt*k3, t[n] + dt)\n",
    "        unew = u[n] + (dt/6.0)*(k1 + 2*k2 + 2*k3 + k4)\n",
    "        return unew"
   ]
  },
  {
   "cell_type": "code",
   "execution_count": null,
   "id": "bfd29d83",
   "metadata": {},
   "outputs": [],
   "source": []
  }
 ],
 "metadata": {
  "kernelspec": {
   "display_name": "Python 3 (ipykernel)",
   "language": "python",
   "name": "python3"
  },
  "language_info": {
   "codemirror_mode": {
    "name": "ipython",
    "version": 3
   },
   "file_extension": ".py",
   "mimetype": "text/x-python",
   "name": "python",
   "nbconvert_exporter": "python",
   "pygments_lexer": "ipython3",
   "version": "3.11.1"
  }
 },
 "nbformat": 4,
 "nbformat_minor": 5
}
